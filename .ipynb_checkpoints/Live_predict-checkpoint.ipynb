{
 "cells": [
  {
   "cell_type": "code",
   "execution_count": 1,
   "id": "dd75a51b-24da-4a4c-a8e6-1a5696379229",
   "metadata": {},
   "outputs": [],
   "source": [
    "import yfinance as yf\n",
    "import numpy as np\n",
    "import pandas as pd\n",
    "import matplotlib.pyplot as plt\n",
    "from tensorflow.keras.models import load_model\n",
    "import joblib\n",
    "model = load_model(\"model/lstm_volatility_model.keras\")\n",
    "scaler = joblib.load(\"model/scaler.save\")"
   ]
  },
  {
   "cell_type": "code",
   "execution_count": 18,
   "id": "e6b9b5f9-43e4-4061-9335-2f6457684ac2",
   "metadata": {},
   "outputs": [],
   "source": [
    "def get_binance_data(asset=\"ETHUSDT\", timeframe=\"1h\", limit=1000):\n",
    "    import requests\n",
    "    import pandas as pd\n",
    "\n",
    "    url = 'https://api.binance.com/api/v3/klines'\n",
    "    params = {'symbol': asset, 'interval': timeframe, 'limit': limit}\n",
    "\n",
    "    response = requests.get(url, params=params)\n",
    "    if response.status_code != 200:\n",
    "        print(f\"❌ Erreur API Binance ({response.status_code}): {response.text}\")\n",
    "        return pd.DataFrame()\n",
    "\n",
    "    df = pd.DataFrame(response.json(), columns=[\n",
    "        'timestamp', 'open', 'high', 'low', 'close', 'volume',\n",
    "        'close_time', 'quote_asset_volume', 'trades',\n",
    "        'taker_base_volume', 'taker_quote_volume', 'ignore'\n",
    "    ])\n",
    "    df = df[['timestamp', 'open', 'high', 'low', 'close', 'volume']]\n",
    "    df['timestamp'] = pd.to_datetime(df['timestamp'], unit='ms')\n",
    "    df[['open', 'high', 'low', 'close', 'volume']] = df[['open', 'high', 'low', 'close', 'volume']].astype(float)\n",
    "    df.set_index('timestamp', inplace=True)\n",
    "    return df\n"
   ]
  },
  {
   "cell_type": "code",
   "execution_count": 19,
   "id": "a212fa39-abe4-4f65-a7b9-2dd254bdf923",
   "metadata": {},
   "outputs": [],
   "source": [
    "def preprocess_live(df):\n",
    "    from arch import arch_model\n",
    "    from hurst import compute_Hc\n",
    "\n",
    "    # Log-return\n",
    "    df['log_return'] = np.log(df['close'] / df['close'].shift(1)) * 100\n",
    "    df['volatility'] = df['log_return'].rolling(window=30).std() * np.sqrt(365)\n",
    "\n",
    "    # Vérification taille log_return\n",
    "    log_ret_clean = df['log_return'].dropna()\n",
    "    if len(log_ret_clean) < 60:\n",
    "        raise ValueError(\"❌ Pas assez de données pour calculer un GARCH\")\n",
    "\n",
    "    # GARCH\n",
    "    am = arch_model(log_ret_clean, vol='Garch', p=1, q=1)\n",
    "    res = am.fit(disp='off')\n",
    "    df.loc[df.index[1:], 'garch_vol'] = res.conditional_volatility\n",
    "\n",
    "    # Hurst exponent\n",
    "    if df['volatility'].dropna().shape[0] < 100:\n",
    "        df['hurst'] = 0.5  # Valeur neutre\n",
    "    else:\n",
    "        H, _, _ = compute_Hc(df['volatility'].dropna(), kind='price', simplified=True)\n",
    "        df['hurst'] = H\n",
    "\n",
    "    return df.dropna()\n",
    "\n"
   ]
  },
  {
   "cell_type": "code",
   "execution_count": 22,
   "id": "20083b37-f8ff-4338-a1e5-2b84536a8628",
   "metadata": {},
   "outputs": [],
   "source": [
    "def predict_spike_live(model, scaler, df_input, seq_length=50):\n",
    "    features = ['volatility', 'garch_vol', 'hurst']\n",
    "\n",
    "    # Vérification des colonnes\n",
    "    if not all(f in df_input.columns for f in features):\n",
    "        raise ValueError(\"❌ Les colonnes nécessaires ne sont pas toutes présentes dans les données.\")\n",
    "\n",
    "    # Extraction des features et normalisation\n",
    "    X_live = df_input[features].tail(seq_length).values\n",
    "    X_scaled = scaler.transform(X_live)\n",
    "\n",
    "    # Mise en forme pour le modèle LSTM\n",
    "    X_seq = np.expand_dims(X_scaled, axis=0)  # Shape: (1, 50, 3)\n",
    "\n",
    "    # Prédiction\n",
    "    prediction = model.predict(X_seq)[0][0]\n",
    "    signal = \"🔴 Spike probable\" if prediction > 0.5 else \"🟢 Calme\"\n",
    "\n",
    "    print(f\"{signal} — Probabilité prédite : {prediction:.4f}\")\n",
    "    return prediction\n",
    "\n"
   ]
  },
  {
   "cell_type": "code",
   "execution_count": null,
   "id": "7c0eafd9-3204-4cc0-aae8-bdc8328f3f97",
   "metadata": {},
   "outputs": [],
   "source": []
  },
  {
   "cell_type": "code",
   "execution_count": 22,
   "id": "4d8b9bb8-d37e-42d6-9419-c12f13460db9",
   "metadata": {},
   "outputs": [],
   "source": [
    "def plot_volatility(df, symbol=\"BTC-USD\"):\n",
    "    plt.figure(figsize=(12, 5))\n",
    "    plt.plot(df.index[-60:], df['volatility'].tail(60), label='Volatility')\n",
    "\n",
    "    # Calcul du seuil sécurisé\n",
    "    rolling_mean = df['volatility'].rolling(30).mean()\n",
    "    seuil = rolling_mean.iloc[-1] if len(rolling_mean.dropna()) > 0 else 0\n",
    "\n",
    "    plt.axhline(y=2 * seuil, color='r', linestyle='--', label='Seuil Spike')\n",
    "    plt.title(f\"Volatilité journalière de {symbol} sur les 60 derniers jours\")\n",
    "    plt.xlabel(\"Date\")\n",
    "    plt.ylabel(\"Volatilité annualisée\")\n",
    "    plt.legend()\n",
    "    plt.grid(True)\n",
    "    plt.show()\n",
    "\n"
   ]
  },
  {
   "cell_type": "code",
   "execution_count": 23,
   "id": "52777a9f-0c9f-455e-a8de-4a46268e5223",
   "metadata": {},
   "outputs": [
    {
     "name": "stderr",
     "output_type": "stream",
     "text": [
      "C:\\Users\\vicen\\miniconda3\\envs\\projet_finance\\lib\\site-packages\\sklearn\\base.py:493: UserWarning: X does not have valid feature names, but RobustScaler was fitted with feature names\n",
      "  warnings.warn(\n"
     ]
    },
    {
     "name": "stdout",
     "output_type": "stream",
     "text": [
      "\u001b[1m1/1\u001b[0m \u001b[32m━━━━━━━━━━━━━━━━━━━━\u001b[0m\u001b[37m\u001b[0m \u001b[1m1s\u001b[0m 990ms/step\n",
      "🟢 Calme — Probabilité prédite : 0.0080\n"
     ]
    }
   ],
   "source": [
    "df_raw = get_binance_data(asset=\"ETHUSDT\", timeframe=\"1h\", limit=500)\n",
    "df_processed = preprocess_live(df_raw)\n",
    "prediction = predict_spike_live(model, scaler, df_processed)\n",
    "\n"
   ]
  }
 ],
 "metadata": {
  "kernelspec": {
   "display_name": "Python 3 (ipykernel)",
   "language": "python",
   "name": "python3"
  },
  "language_info": {
   "codemirror_mode": {
    "name": "ipython",
    "version": 3
   },
   "file_extension": ".py",
   "mimetype": "text/x-python",
   "name": "python",
   "nbconvert_exporter": "python",
   "pygments_lexer": "ipython3",
   "version": "3.9.19"
  }
 },
 "nbformat": 4,
 "nbformat_minor": 5
}
